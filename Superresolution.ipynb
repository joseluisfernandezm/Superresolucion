{
  "nbformat": 4,
  "nbformat_minor": 0,
  "metadata": {
    "colab": {
      "provenance": [],
      "gpuType": "T4",
      "include_colab_link": true
    },
    "kernelspec": {
      "name": "python3",
      "display_name": "Python 3"
    },
    "language_info": {
      "name": "python"
    },
    "accelerator": "GPU"
  },
  "cells": [
    {
      "cell_type": "markdown",
      "metadata": {
        "id": "view-in-github",
        "colab_type": "text"
      },
      "source": [
        "<a href=\"https://colab.research.google.com/github/joseluisfernandezm/Superresolucion/blob/main/Superresolution.ipynb\" target=\"_parent\"><img src=\"https://colab.research.google.com/assets/colab-badge.svg\" alt=\"Open In Colab\"/></a>"
      ]
    },
    {
      "cell_type": "code",
      "execution_count": null,
      "metadata": {
        "id": "k1uXbhRs5Vlw"
      },
      "outputs": [],
      "source": [
        "!git clone https://github.com/xinntao/Real-ESRGAN.git"
      ]
    },
    {
      "cell_type": "code",
      "source": [
        "cd Real-ESRGAN/"
      ],
      "metadata": {
        "id": "My_xw9u16AAi"
      },
      "execution_count": null,
      "outputs": []
    },
    {
      "cell_type": "markdown",
      "source": [
        "Instalación del entorno"
      ],
      "metadata": {
        "id": "OgtsJrLU7x2d"
      }
    },
    {
      "cell_type": "code",
      "source": [
        "# Install basicsr - https://github.com/xinntao/BasicSR\n",
        "# We use BasicSR for both training and inference\n",
        "!pip install basicsr\n",
        "# facexlib and gfpgan are for face enhancement\n",
        "!pip install facexlib\n",
        "!pip install gfpgan\n",
        "!pip install -r requirements.txt\n",
        "!python setup.py develop"
      ],
      "metadata": {
        "id": "tGrTLX-E6Zz9"
      },
      "execution_count": null,
      "outputs": []
    },
    {
      "cell_type": "code",
      "source": [
        "# ROCM 5.4.2 (Linux only)\n",
        "!pip install torch==2.0.0+rocm5.4.2 torchvision==0.15.1+rocm5.4.2 torchaudio==2.0.1 --index-url https://download.pytorch.org/whl/rocm5.4.2\n",
        "# CUDA 11.7\n",
        "!pip install torch==2.0.0+cu117 torchvision==0.15.1+cu117 torchaudio==2.0.1 --index-url https://download.pytorch.org/whl/cu117\n",
        "# CUDA 11.8\n",
        "!pip install torch==2.0.0+cu118 torchvision==0.15.1+cu118 torchaudio==2.0.1 --index-url https://download.pytorch.org/whl/cu118\n",
        "# CPU only\n",
        "!pip install torch==2.0.0+cpu torchvision==0.15.1+cpu torchaudio==2.0.1 --index-url https://download.pytorch.org/whl/cpu"
      ],
      "metadata": {
        "id": "4B_r8CEJ7lMU"
      },
      "execution_count": null,
      "outputs": []
    },
    {
      "cell_type": "code",
      "source": [
        "!pip install torch torchvision -U"
      ],
      "metadata": {
        "id": "czyQq4sp-4fp"
      },
      "execution_count": null,
      "outputs": []
    },
    {
      "cell_type": "code",
      "source": [
        "!pip install numpy opencv-python"
      ],
      "metadata": {
        "id": "v8MDuzkPALnV"
      },
      "execution_count": null,
      "outputs": []
    },
    {
      "cell_type": "markdown",
      "source": [
        "Implementacion"
      ],
      "metadata": {
        "id": "FhB8qKBy_pb9"
      }
    },
    {
      "cell_type": "code",
      "source": [
        "!python setup.py develop"
      ],
      "metadata": {
        "id": "ywpi05LHAeGy"
      },
      "execution_count": null,
      "outputs": []
    },
    {
      "cell_type": "markdown",
      "source": [
        "Escalar imagenes"
      ],
      "metadata": {
        "id": "de7SjcshEZy_"
      }
    },
    {
      "cell_type": "code",
      "source": [
        "!python inference_realesrgan.py --input /content/Real-ESRGAN/agua.jpg --model_path /content/Real-ESRGAN/experiments/pretrained_models/RealESRGAN_x4plus.pth --output /content/Real-ESRGAN/out --ext .jpg --tile 122"
      ],
      "metadata": {
        "id": "BQVCbuqWFyS4"
      },
      "execution_count": null,
      "outputs": []
    },
    {
      "cell_type": "markdown",
      "source": [
        "Escalar Videos"
      ],
      "metadata": {
        "id": "WclphJCdEdEf"
      }
    },
    {
      "cell_type": "code",
      "source": [
        "!python inference_realesrgan.py --input /content/Real-ESRGAN/frames --model_path /content/Real-ESRGAN/experiments/pretrained_models/RealESRGAN_x4plus.pth --output /content/Real-ESRGAN/out --ext jpg --tile 122"
      ],
      "metadata": {
        "id": "3d3u2qXBE7Dd"
      },
      "execution_count": null,
      "outputs": []
    },
    {
      "cell_type": "code",
      "source": [
        "!zip -r \"/content/framesUP.zip\" \"/content/Real-ESRGAN/out\""
      ],
      "metadata": {
        "id": "QbRbdqukIXiQ"
      },
      "execution_count": null,
      "outputs": []
    },
    {
      "cell_type": "code",
      "source": [
        "from google.colab import files\n",
        "files.download(\"/content/Real-ESRGAN/out/frames.zip\")"
      ],
      "metadata": {
        "id": "splHrc2-IBBE",
        "colab": {
          "base_uri": "https://localhost:8080/",
          "height": 34
        },
        "outputId": "4bfafbb0-4ff1-4538-a782-ae3d1e467a18"
      },
      "execution_count": null,
      "outputs": [
        {
          "output_type": "display_data",
          "data": {
            "text/plain": [
              "<IPython.core.display.Javascript object>"
            ],
            "application/javascript": [
              "\n",
              "    async function download(id, filename, size) {\n",
              "      if (!google.colab.kernel.accessAllowed) {\n",
              "        return;\n",
              "      }\n",
              "      const div = document.createElement('div');\n",
              "      const label = document.createElement('label');\n",
              "      label.textContent = `Downloading \"${filename}\": `;\n",
              "      div.appendChild(label);\n",
              "      const progress = document.createElement('progress');\n",
              "      progress.max = size;\n",
              "      div.appendChild(progress);\n",
              "      document.body.appendChild(div);\n",
              "\n",
              "      const buffers = [];\n",
              "      let downloaded = 0;\n",
              "\n",
              "      const channel = await google.colab.kernel.comms.open(id);\n",
              "      // Send a message to notify the kernel that we're ready.\n",
              "      channel.send({})\n",
              "\n",
              "      for await (const message of channel.messages) {\n",
              "        // Send a message to notify the kernel that we're ready.\n",
              "        channel.send({})\n",
              "        if (message.buffers) {\n",
              "          for (const buffer of message.buffers) {\n",
              "            buffers.push(buffer);\n",
              "            downloaded += buffer.byteLength;\n",
              "            progress.value = downloaded;\n",
              "          }\n",
              "        }\n",
              "      }\n",
              "      const blob = new Blob(buffers, {type: 'application/binary'});\n",
              "      const a = document.createElement('a');\n",
              "      a.href = window.URL.createObjectURL(blob);\n",
              "      a.download = filename;\n",
              "      div.appendChild(a);\n",
              "      a.click();\n",
              "      div.remove();\n",
              "    }\n",
              "  "
            ]
          },
          "metadata": {}
        },
        {
          "output_type": "display_data",
          "data": {
            "text/plain": [
              "<IPython.core.display.Javascript object>"
            ],
            "application/javascript": [
              "download(\"download_aa619ef0-2945-4589-8abe-954bf5815715\", \"frames.zip\", 98395214)"
            ]
          },
          "metadata": {}
        }
      ]
    },
    {
      "cell_type": "code",
      "source": [
        "rm -rf frames"
      ],
      "metadata": {
        "id": "3WPR2Tk0W5lp"
      },
      "execution_count": null,
      "outputs": []
    },
    {
      "cell_type": "code",
      "source": [
        "!unzip /content/frames.zip -d /content/Real-ESRGAN/"
      ],
      "metadata": {
        "id": "eQjU0Wpqb-Cm"
      },
      "execution_count": null,
      "outputs": []
    },
    {
      "cell_type": "code",
      "source": [
        "!ffmpeg  -i /content/Steamboat_Willie.mp4 /content/Real-ESRGAN/out/frame%05d_out.jpg -r 29.97 -s 1920x1440 -c:a aac resultado.avi"
      ],
      "metadata": {
        "id": "dKbkdaPhfZUy"
      },
      "execution_count": null,
      "outputs": []
    }
  ]
}